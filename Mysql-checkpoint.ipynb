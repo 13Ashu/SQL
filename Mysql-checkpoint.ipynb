{
 "cells": [
  {
   "cell_type": "code",
   "execution_count": 47,
   "metadata": {},
   "outputs": [],
   "source": [
    "import pymysql \n",
    "import pandas as pd\n",
    "import cx_Oracle\n",
    "\n",
    "# NOTE: For Oracle database, just replace pymysql with cx_Oracle"
   ]
  },
  {
   "cell_type": "code",
   "execution_count": 37,
   "metadata": {},
   "outputs": [],
   "source": [
    "# FOR MYSQL\n",
    "\n",
    "#Open a connection to a database\n",
    "connection = pymysql.connect(host='localhost',user='root',password='####',db='database_name')\n",
    "\n",
    "#prepare a cursor object using cursor method\n",
    "a = connection.cursor()\n",
    "a_oracle = connection\n",
    "\n",
    "#Write the query in a proper format\n",
    "query = 'SELECT * FROM importpython.`employee info`;'\n",
    "\n",
    "#Execute the query\n",
    "a.execute(query)\n",
    "\n",
    "#This is your data!\n",
    "data = a.fetchall()"
   ]
  },
  {
   "cell_type": "code",
   "execution_count": null,
   "metadata": {},
   "outputs": [],
   "source": [
    "#  FOR ORACLE\n",
    "\n",
    "connection_oracle = cx_Oracle.connect('username/password@hostname/SID')\n",
    "# in our case:\n",
    "connection_oracle = cx_Oracle.connect('root/####@localhost/database_name')\n",
    "\n",
    "#prepare a cursor object using cursor method\n",
    "a_oracle = connection_oracle.cursor()\n",
    "\n",
    "#Write the query in a proper format\n",
    "query = 'SELECT * FROM importpython.`employee info`;'\n",
    "\n",
    "#Execute the query\n",
    "a.execute(query)\n",
    "\n",
    "for line in a_oracle:\n",
    "    print(line)\n",
    "    \n",
    "a_oracle.close()\n",
    "connection_oracle.close()"
   ]
  },
  {
   "cell_type": "code",
   "execution_count": 43,
   "metadata": {},
   "outputs": [
    {
     "data": {
      "text/plain": [
       "((1, 'Ashu', 'Agrawal', 22),\n",
       " (2, 'Shahrukh', 'Khan', 50),\n",
       " (3, 'Bobby', 'Deol', 60))"
      ]
     },
     "execution_count": 43,
     "metadata": {},
     "output_type": "execute_result"
    }
   ],
   "source": [
    "data"
   ]
  },
  {
   "cell_type": "code",
   "execution_count": null,
   "metadata": {},
   "outputs": [],
   "source": []
  }
 ],
 "metadata": {
  "kernelspec": {
   "display_name": "Python 3",
   "language": "python",
   "name": "python3"
  },
  "language_info": {
   "codemirror_mode": {
    "name": "ipython",
    "version": 3
   },
   "file_extension": ".py",
   "mimetype": "text/x-python",
   "name": "python",
   "nbconvert_exporter": "python",
   "pygments_lexer": "ipython3",
   "version": "3.6.4rc1"
  }
 },
 "nbformat": 4,
 "nbformat_minor": 2
}
